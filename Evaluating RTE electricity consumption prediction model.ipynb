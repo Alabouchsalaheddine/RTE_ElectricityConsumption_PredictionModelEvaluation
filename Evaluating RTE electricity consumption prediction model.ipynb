{
 "cells": [
  {
   "cell_type": "markdown",
   "metadata": {},
   "source": [
    "## Evaluating RTE energy consumption prediction model"
   ]
  },
  {
   "cell_type": "markdown",
   "metadata": {},
   "source": [
    "Réseau de Transport d'Électricité (\"Electricity Transmission Network\"), usually known as RTE, is the electricity transmission system operator of France."
   ]
  },
  {
   "cell_type": "markdown",
   "metadata": {},
   "source": [
    "![title](images/logo_rte.png)"
   ]
  },
  {
   "cell_type": "markdown",
   "metadata": {},
   "source": [
    "In this notebook, we will try to evaluate the RTE energy consumption prediction model"
   ]
  },
  {
   "cell_type": "markdown",
   "metadata": {},
   "source": [
    "RTE is making it possible to consult real time electricity consumption in France using its platform at : https://www.rte-france.com/eco2mix/la-consommation-delectricite-en-france"
   ]
  },
  {
   "cell_type": "markdown",
   "metadata": {},
   "source": [
    "![title](images/rte_tool.png)"
   ]
  },
  {
   "cell_type": "markdown",
   "metadata": {},
   "source": [
    "By inspecting the element and watching the network we can easily find the API user to retrieve this data"
   ]
  },
  {
   "cell_type": "markdown",
   "metadata": {},
   "source": [
    "![title](images/xmlFileScreenShot.png)"
   ]
  },
  {
   "cell_type": "markdown",
   "metadata": {},
   "source": [
    "An example of an API call to retrive electricity consumption for 03/11/2022"
   ]
  },
  {
   "cell_type": "markdown",
   "metadata": {},
   "source": [
    "https://eco2mix.rte-france.com/curves/eco2mixWeb?type=conso&dateDeb=03/11/2022&dateFin=03/11/2022&mode=NORM"
   ]
  },
  {
   "cell_type": "markdown",
   "metadata": {},
   "source": [
    "## Collecting data"
   ]
  },
  {
   "cell_type": "markdown",
   "metadata": {},
   "source": [
    "Having the API, we can collect the data by making as many requests as the number of days we are interested in"
   ]
  },
  {
   "cell_type": "markdown",
   "metadata": {},
   "source": [
    "We can collect the electricity consumption data from the RTE API by executing the following code"
   ]
  },
  {
   "cell_type": "code",
   "execution_count": 6,
   "metadata": {},
   "outputs": [
    {
     "name": "stdout",
     "output_type": "stream",
     "text": [
      "Data is collected from RTE API and stored in the directory : data\n"
     ]
    }
   ],
   "source": [
    "from calendar import monthrange\n",
    "import datetime\n",
    "import requests\n",
    "\n",
    "# Function to collect the data from the RTE API given a day : jj/mm/YYYY\n",
    "def getDataOfTheDay(dayStr) :\n",
    "    url = \"https://eco2mix.rte-france.com/curves/eco2mixWeb?type=conso&dateDeb=\" + dayStr + \"&dateFin=\" + dayStr + \"&mode=NORM\"\n",
    "    headers = {\n",
    "        \"accept\": \"*/*\",\n",
    "        \"accept-language\": \"fr,en-US;q=0.9,en;q=0.8,ar;q=0.7,fr-FR;q=0.6,ar-MA;q=0.5\",\n",
    "        \"sec-ch-ua\": \"\\\"Google Chrome\\\";v=\\\"107\\\", \\\"Chromium\\\";v=\\\"107\\\", \\\"Not=A?Brand\\\";v=\\\"24\\\"\",\n",
    "        \"sec-ch-ua-mobile\": \"?1\",\n",
    "        \"sec-ch-ua-platform\": \"\\\"Android\\\"\",\n",
    "        \"sec-fetch-dest\": \"empty\",\n",
    "        \"sec-fetch-mode\": \"cors\",\n",
    "        \"sec-fetch-site\": \"same-site\",\n",
    "        \"Referer\": \"https://www.rte-france.com/\",\n",
    "        \"Referrer-Policy\": \"strict-origin-when-cross-origin\"\n",
    "    }\n",
    "    response = requests.request(\"POST\", url, headers=headers)\n",
    "    return response.text\n",
    "\n",
    "# Function to write text to a file\n",
    "def writeTextToFile(text, fileName) :\n",
    "    f = open(fileName, \"w+\", encoding=\"utf-8\")\n",
    "    f.write(text)\n",
    "    f.close()\n",
    "\n",
    "# We will collect the data from January to October 2022\n",
    "year = 2022\n",
    "listOfMonths = [1, 2, 3, 4, 5, 6, 7, 8, 9, 10]\n",
    "counter = 1\n",
    "for month in listOfMonths :\n",
    "    num_days = monthrange(year, month)[1]  # num_days = 28\n",
    "    days = [datetime.date(year, month, day) for day in range(1, num_days + 1)]\n",
    "    for thisDay in days:\n",
    "        thisDayStr = thisDay.strftime(\"%d/%m/%Y\")\n",
    "        data = getDataOfTheDay(thisDayStr)\n",
    "        fileName = \"data/day\" + \"{:03d}\".format(counter) + \"_\" + thisDay.strftime(\"%d-%m-%Y\") + \".xml\"\n",
    "        writeTextToFile(data, fileName)\n",
    "        counter += 1\n",
    "print(\"Data is collected from RTE API and stored in the directory : data\")"
   ]
  },
  {
   "cell_type": "markdown",
   "metadata": {},
   "source": [
    "## Transforming the xml files to a single csv file"
   ]
  },
  {
   "cell_type": "markdown",
   "metadata": {},
   "source": [
    "As we can notice, the data we collected is on xml format which doesn't help up as a lot"
   ]
  },
  {
   "cell_type": "markdown",
   "metadata": {},
   "source": [
    "We will transform these files to a single csv file that centralize all the real and predicted consumption data"
   ]
  },
  {
   "cell_type": "code",
   "execution_count": 25,
   "metadata": {},
   "outputs": [
    {
     "name": "stdout",
     "output_type": "stream",
     "text": [
      "All the data is now stored in the file electricityConsumptionRealAndPrediction.csv\n"
     ]
    }
   ],
   "source": [
    "import xml.etree.ElementTree as ET\n",
    "import csv\n",
    "from os import listdir\n",
    "from os.path import isfile, join\n",
    "\n",
    "myPath = \"data/\"\n",
    "onlyFiles = [f for f in listdir(myPath) if isfile(join(myPath, f))]\n",
    "\n",
    "allData = []\n",
    "allData.append([\"consommation\", \"previsionJ\"])\n",
    "for thisXmlFile in onlyFiles :\n",
    "    tree = ET.parse('data/'+thisXmlFile)\n",
    "    root = tree.getroot()\n",
    "    consommation = root[7][0]\n",
    "    previsionJ = root[7][2]\n",
    "    # Every file has 96 entries\n",
    "    for i in range(96):\n",
    "        data = [consommation[i].text, previsionJ[i].text]\n",
    "        allData.append(data)\n",
    "\n",
    "with open('electricityConsumptionRealAndPrediction.csv', 'w', newline='') as file:\n",
    "    writer = csv.writer(file)\n",
    "    for thisLine in allData :\n",
    "        writer.writerow(thisLine)\n",
    "print(\"All the data is now stored in the file electricityConsumptionRealAndPrediction.csv\")"
   ]
  },
  {
   "cell_type": "markdown",
   "metadata": {},
   "source": [
    "## Evaluating the predicition model"
   ]
  },
  {
   "cell_type": "markdown",
   "metadata": {},
   "source": [
    "Now that we have the data centralized in a csv file we can use pandas to load this data and sklearn to have some metrics about it."
   ]
  },
  {
   "cell_type": "code",
   "execution_count": 26,
   "metadata": {},
   "outputs": [],
   "source": [
    "import pandas as pd\n",
    "df = pd.read_csv(\"electricityConsumptionRealAndPrediction.csv\", sep=\",\")"
   ]
  },
  {
   "cell_type": "code",
   "execution_count": 27,
   "metadata": {},
   "outputs": [
    {
     "data": {
      "text/html": [
       "<div>\n",
       "<style scoped>\n",
       "    .dataframe tbody tr th:only-of-type {\n",
       "        vertical-align: middle;\n",
       "    }\n",
       "\n",
       "    .dataframe tbody tr th {\n",
       "        vertical-align: top;\n",
       "    }\n",
       "\n",
       "    .dataframe thead th {\n",
       "        text-align: right;\n",
       "    }\n",
       "</style>\n",
       "<table border=\"1\" class=\"dataframe\">\n",
       "  <thead>\n",
       "    <tr style=\"text-align: right;\">\n",
       "      <th></th>\n",
       "      <th>consommation</th>\n",
       "      <th>previsionJ</th>\n",
       "    </tr>\n",
       "  </thead>\n",
       "  <tbody>\n",
       "    <tr>\n",
       "      <th>0</th>\n",
       "      <td>54578</td>\n",
       "      <td>54200</td>\n",
       "    </tr>\n",
       "    <tr>\n",
       "      <th>1</th>\n",
       "      <td>54331</td>\n",
       "      <td>53750</td>\n",
       "    </tr>\n",
       "    <tr>\n",
       "      <th>2</th>\n",
       "      <td>54083</td>\n",
       "      <td>53300</td>\n",
       "    </tr>\n",
       "    <tr>\n",
       "      <th>3</th>\n",
       "      <td>53126</td>\n",
       "      <td>52400</td>\n",
       "    </tr>\n",
       "    <tr>\n",
       "      <th>4</th>\n",
       "      <td>52169</td>\n",
       "      <td>51500</td>\n",
       "    </tr>\n",
       "    <tr>\n",
       "      <th>...</th>\n",
       "      <td>...</td>\n",
       "      <td>...</td>\n",
       "    </tr>\n",
       "    <tr>\n",
       "      <th>29179</th>\n",
       "      <td>41265</td>\n",
       "      <td>40300</td>\n",
       "    </tr>\n",
       "    <tr>\n",
       "      <th>29180</th>\n",
       "      <td>41090</td>\n",
       "      <td>41200</td>\n",
       "    </tr>\n",
       "    <tr>\n",
       "      <th>29181</th>\n",
       "      <td>41203</td>\n",
       "      <td>40850</td>\n",
       "    </tr>\n",
       "    <tr>\n",
       "      <th>29182</th>\n",
       "      <td>40735</td>\n",
       "      <td>40500</td>\n",
       "    </tr>\n",
       "    <tr>\n",
       "      <th>29183</th>\n",
       "      <td>40904</td>\n",
       "      <td>39750</td>\n",
       "    </tr>\n",
       "  </tbody>\n",
       "</table>\n",
       "<p>29184 rows × 2 columns</p>\n",
       "</div>"
      ],
      "text/plain": [
       "       consommation  previsionJ\n",
       "0             54578       54200\n",
       "1             54331       53750\n",
       "2             54083       53300\n",
       "3             53126       52400\n",
       "4             52169       51500\n",
       "...             ...         ...\n",
       "29179         41265       40300\n",
       "29180         41090       41200\n",
       "29181         41203       40850\n",
       "29182         40735       40500\n",
       "29183         40904       39750\n",
       "\n",
       "[29184 rows x 2 columns]"
      ]
     },
     "execution_count": 27,
     "metadata": {},
     "output_type": "execute_result"
    }
   ],
   "source": [
    "df"
   ]
  },
  {
   "cell_type": "code",
   "execution_count": 28,
   "metadata": {},
   "outputs": [],
   "source": [
    "dfLastDay = pd.DataFrame.tail(df, n=96)\n"
   ]
  },
  {
   "cell_type": "code",
   "execution_count": 29,
   "metadata": {},
   "outputs": [
    {
     "data": {
      "text/html": [
       "<div>\n",
       "<style scoped>\n",
       "    .dataframe tbody tr th:only-of-type {\n",
       "        vertical-align: middle;\n",
       "    }\n",
       "\n",
       "    .dataframe tbody tr th {\n",
       "        vertical-align: top;\n",
       "    }\n",
       "\n",
       "    .dataframe thead th {\n",
       "        text-align: right;\n",
       "    }\n",
       "</style>\n",
       "<table border=\"1\" class=\"dataframe\">\n",
       "  <thead>\n",
       "    <tr style=\"text-align: right;\">\n",
       "      <th></th>\n",
       "      <th>consommation</th>\n",
       "      <th>previsionJ</th>\n",
       "    </tr>\n",
       "  </thead>\n",
       "  <tbody>\n",
       "    <tr>\n",
       "      <th>29088</th>\n",
       "      <td>39235</td>\n",
       "      <td>39400</td>\n",
       "    </tr>\n",
       "    <tr>\n",
       "      <th>29089</th>\n",
       "      <td>38939</td>\n",
       "      <td>38750</td>\n",
       "    </tr>\n",
       "    <tr>\n",
       "      <th>29090</th>\n",
       "      <td>37547</td>\n",
       "      <td>38100</td>\n",
       "    </tr>\n",
       "    <tr>\n",
       "      <th>29091</th>\n",
       "      <td>36055</td>\n",
       "      <td>37100</td>\n",
       "    </tr>\n",
       "    <tr>\n",
       "      <th>29092</th>\n",
       "      <td>35711</td>\n",
       "      <td>36100</td>\n",
       "    </tr>\n",
       "    <tr>\n",
       "      <th>...</th>\n",
       "      <td>...</td>\n",
       "      <td>...</td>\n",
       "    </tr>\n",
       "    <tr>\n",
       "      <th>29179</th>\n",
       "      <td>41265</td>\n",
       "      <td>40300</td>\n",
       "    </tr>\n",
       "    <tr>\n",
       "      <th>29180</th>\n",
       "      <td>41090</td>\n",
       "      <td>41200</td>\n",
       "    </tr>\n",
       "    <tr>\n",
       "      <th>29181</th>\n",
       "      <td>41203</td>\n",
       "      <td>40850</td>\n",
       "    </tr>\n",
       "    <tr>\n",
       "      <th>29182</th>\n",
       "      <td>40735</td>\n",
       "      <td>40500</td>\n",
       "    </tr>\n",
       "    <tr>\n",
       "      <th>29183</th>\n",
       "      <td>40904</td>\n",
       "      <td>39750</td>\n",
       "    </tr>\n",
       "  </tbody>\n",
       "</table>\n",
       "<p>96 rows × 2 columns</p>\n",
       "</div>"
      ],
      "text/plain": [
       "       consommation  previsionJ\n",
       "29088         39235       39400\n",
       "29089         38939       38750\n",
       "29090         37547       38100\n",
       "29091         36055       37100\n",
       "29092         35711       36100\n",
       "...             ...         ...\n",
       "29179         41265       40300\n",
       "29180         41090       41200\n",
       "29181         41203       40850\n",
       "29182         40735       40500\n",
       "29183         40904       39750\n",
       "\n",
       "[96 rows x 2 columns]"
      ]
     },
     "execution_count": 29,
     "metadata": {},
     "output_type": "execute_result"
    }
   ],
   "source": [
    "dfLastDay"
   ]
  },
  {
   "cell_type": "code",
   "execution_count": 30,
   "metadata": {},
   "outputs": [
    {
     "data": {
      "image/png": "[encoded data removed]",
      "text/plain": [
       "<Figure size 432x288 with 1 Axes>"
      ]
     },
     "metadata": {
      "needs_background": "light"
     },
     "output_type": "display_data"
    }
   ],
   "source": [
    "import matplotlib.pyplot as plt\n",
    "dfLastDay.plot()\n",
    "plt.show()\n"
   ]
  },
  {
   "cell_type": "markdown",
   "metadata": {},
   "source": [
    "We can notice that the predicted values are not always the same as the real electricity consumption values"
   ]
  },
  {
   "cell_type": "markdown",
   "metadata": {},
   "source": [
    "In order to evaluate the RTE prediction model, we are going to use metrics called : **MAE (Mean absolute error), MAPE (Mean absolute percentage error)**"
   ]
  },
  {
   "cell_type": "markdown",
   "metadata": {},
   "source": [
    "In statistics, **mean absolute error (MAE)** is a measure of errors between paired observations expressing the same phenomenon. Examples of Y versus X include comparisons of predicted versus observed, subsequent time versus initial time, and one technique of measurement versus an alternative technique of measurement. MAE is calculated as :"
   ]
  },
  {
   "cell_type": "markdown",
   "metadata": {},
   "source": [
    "![title](images/mae.png)"
   ]
  },
  {
   "cell_type": "markdown",
   "metadata": {},
   "source": [
    "The **mean absolute percentage error (MAPE)**, also known as mean absolute percentage deviation (MAPD), is a measure of prediction accuracy of a forecasting method in statistics. It usually expresses the accuracy as a ratio defined by the formula:"
   ]
  },
  {
   "cell_type": "markdown",
   "metadata": {},
   "source": [
    "![title](images/mape2.png)"
   ]
  },
  {
   "cell_type": "markdown",
   "metadata": {},
   "source": [
    "We can find this metric already implemnted in **sklearn.metrics**"
   ]
  },
  {
   "cell_type": "markdown",
   "metadata": {},
   "source": [
    "### Computing the mean absolute error"
   ]
  },
  {
   "cell_type": "code",
   "execution_count": 31,
   "metadata": {},
   "outputs": [],
   "source": [
    "from sklearn.metrics import mean_absolute_error"
   ]
  },
  {
   "cell_type": "code",
   "execution_count": 32,
   "metadata": {},
   "outputs": [],
   "source": [
    "y_real = df[\"consommation\"]\n",
    "y_predict = df[\"previsionJ\"]\n",
    "mae = mean_absolute_error(y_real, y_predict)"
   ]
  },
  {
   "cell_type": "code",
   "execution_count": 33,
   "metadata": {},
   "outputs": [
    {
     "data": {
      "text/plain": [
       "630.8755139802631"
      ]
     },
     "execution_count": 33,
     "metadata": {},
     "output_type": "execute_result"
    }
   ],
   "source": [
    "mae"
   ]
  },
  {
   "cell_type": "markdown",
   "metadata": {},
   "source": [
    "### Computing the mean absolute percentage error"
   ]
  },
  {
   "cell_type": "code",
   "execution_count": 34,
   "metadata": {},
   "outputs": [],
   "source": [
    "from sklearn.metrics import mean_absolute_percentage_error\n",
    "mape = mean_absolute_percentage_error(y_real, y_predict)"
   ]
  },
  {
   "cell_type": "code",
   "execution_count": 35,
   "metadata": {},
   "outputs": [
    {
     "data": {
      "text/plain": [
       "0.012110706069023864"
      ]
     },
     "execution_count": 35,
     "metadata": {},
     "output_type": "execute_result"
    }
   ],
   "source": [
    "mape"
   ]
  },
  {
   "cell_type": "markdown",
   "metadata": {},
   "source": [
    "As we can see, the MAPE is **0.01211** which is very good."
   ]
  },
  {
   "cell_type": "markdown",
   "metadata": {},
   "source": [
    "That means the model make an error of 1.211 % on its predictions which is very good."
   ]
  }
 ],
 "metadata": {
  "kernelspec": {
   "display_name": "Python 3",
   "language": "python",
   "name": "python3"
  },
  "language_info": {
   "codemirror_mode": {
    "name": "ipython",
    "version": 3
   },
   "file_extension": ".py",
   "mimetype": "text/x-python",
   "name": "python",
   "nbconvert_exporter": "python",
   "pygments_lexer": "ipython3",
   "version": "3.7.3"
  }
 },
 "nbformat": 4,
 "nbformat_minor": 2
}
